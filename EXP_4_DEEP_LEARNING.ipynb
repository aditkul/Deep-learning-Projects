{
 "cells": [
  {
   "cell_type": "code",
   "execution_count": 1,
   "metadata": {
    "id": "pf1XDXC1AsZC"
   },
   "outputs": [],
   "source": [
    "import numpy as np\n",
    "import tensorflow as tf\n",
    "from tensorflow.keras.models import Sequential\n",
    "from tensorflow.keras.layers import Dense\n",
    "from sklearn.datasets import load_diabetes\n",
    "from sklearn.model_selection import train_test_split\n",
    "from sklearn.preprocessing import StandardScaler\n",
    "import seaborn as sns\n",
    "\n"
   ]
  },
  {
   "cell_type": "code",
   "execution_count": 2,
   "metadata": {
    "id": "OwRxiAiRA-a0"
   },
   "outputs": [],
   "source": [
    "diabetes=load_diabetes()\n",
    "X,y = diabetes.data, diabetes.target"
   ]
  },
  {
   "cell_type": "code",
   "execution_count": 3,
   "metadata": {
    "id": "adR9poRyBLw6"
   },
   "outputs": [],
   "source": [
    "scaler=StandardScaler()"
   ]
  },
  {
   "cell_type": "code",
   "execution_count": 4,
   "metadata": {
    "id": "JDrrhNJgBgJ9"
   },
   "outputs": [],
   "source": [
    "X_scaled= scaler.fit_transform(X)"
   ]
  },
  {
   "cell_type": "code",
   "execution_count": 5,
   "metadata": {
    "id": "j1LJEp-zBldm"
   },
   "outputs": [],
   "source": [
    "def compute_gradient(X_batch, y_batch, theta):\n",
    "  n_samples=X_batch.shape[0]\n",
    "  predictions=X_batch.dot(theta)\n",
    "  error=predictions - y_batch\n",
    "  gradient=X_batch.T.dot(error)/n_samples\n",
    "  return gradient"
   ]
  },
  {
   "cell_type": "code",
   "execution_count": 6,
   "metadata": {
    "id": "CWZP5ruNCarQ"
   },
   "outputs": [],
   "source": [
    "def stochastic_gradient_descent(X,y, learning_rate=0.01, n_epochs=100, batch_size=32):\n",
    "  n_samples, n_features = X.shape\n",
    "  n_batches=n_samples // batch_size\n",
    "  theta=np.random.randn(n_features)\n",
    "\n",
    "  for epoch in range(n_epochs):\n",
    "    indices=np.arange(n_samples)\n",
    "    np.random.shuffle(indices)\n",
    "    X_shuffled=X[indices]\n",
    "    y_shuffled=y[indices]\n",
    "\n",
    "    for batch_idx in range(n_batches):\n",
    "      start_idx=batch_idx*batch_size\n",
    "      end_idx=(batch_idx +1)*batch_size\n",
    "      X_batch=X_shuffled[start_idx:end_idx]\n",
    "      y_batch=y_shuffled[start_idx:end_idx]\n",
    "\n",
    "      gradient = compute_gradient(X_batch, y_batch, theta)\n",
    "      theta -=learning_rate * gradient\n",
    "\n",
    "    mse=np.mean((X.dot(theta)-y)**2)\n",
    "    print(\"Epoch {epoch+1}/{n_epochs}, Mean Squared Error: {mse: .4f}\")\n",
    "  return theta"
   ]
  },
  {
   "cell_type": "code",
   "execution_count": 7,
   "metadata": {
    "colab": {
     "base_uri": "https://localhost:8080/"
    },
    "id": "jeGtrBeUEM8b",
    "outputId": "d6db497e-d00d-4ef5-b2b8-0579e723b3d2"
   },
   "outputs": [
    {
     "name": "stdout",
     "output_type": "stream",
     "text": [
      "Epoch {epoch+1}/{n_epochs}, Mean Squared Error: {mse: .4f}\n",
      "Epoch {epoch+1}/{n_epochs}, Mean Squared Error: {mse: .4f}\n",
      "Epoch {epoch+1}/{n_epochs}, Mean Squared Error: {mse: .4f}\n",
      "Epoch {epoch+1}/{n_epochs}, Mean Squared Error: {mse: .4f}\n",
      "Epoch {epoch+1}/{n_epochs}, Mean Squared Error: {mse: .4f}\n",
      "Epoch {epoch+1}/{n_epochs}, Mean Squared Error: {mse: .4f}\n",
      "Epoch {epoch+1}/{n_epochs}, Mean Squared Error: {mse: .4f}\n",
      "Epoch {epoch+1}/{n_epochs}, Mean Squared Error: {mse: .4f}\n",
      "Epoch {epoch+1}/{n_epochs}, Mean Squared Error: {mse: .4f}\n",
      "Epoch {epoch+1}/{n_epochs}, Mean Squared Error: {mse: .4f}\n",
      "Epoch {epoch+1}/{n_epochs}, Mean Squared Error: {mse: .4f}\n",
      "Epoch {epoch+1}/{n_epochs}, Mean Squared Error: {mse: .4f}\n",
      "Epoch {epoch+1}/{n_epochs}, Mean Squared Error: {mse: .4f}\n",
      "Epoch {epoch+1}/{n_epochs}, Mean Squared Error: {mse: .4f}\n",
      "Epoch {epoch+1}/{n_epochs}, Mean Squared Error: {mse: .4f}\n",
      "Epoch {epoch+1}/{n_epochs}, Mean Squared Error: {mse: .4f}\n",
      "Epoch {epoch+1}/{n_epochs}, Mean Squared Error: {mse: .4f}\n",
      "Epoch {epoch+1}/{n_epochs}, Mean Squared Error: {mse: .4f}\n",
      "Epoch {epoch+1}/{n_epochs}, Mean Squared Error: {mse: .4f}\n",
      "Epoch {epoch+1}/{n_epochs}, Mean Squared Error: {mse: .4f}\n",
      "Epoch {epoch+1}/{n_epochs}, Mean Squared Error: {mse: .4f}\n",
      "Epoch {epoch+1}/{n_epochs}, Mean Squared Error: {mse: .4f}\n",
      "Epoch {epoch+1}/{n_epochs}, Mean Squared Error: {mse: .4f}\n",
      "Epoch {epoch+1}/{n_epochs}, Mean Squared Error: {mse: .4f}\n",
      "Epoch {epoch+1}/{n_epochs}, Mean Squared Error: {mse: .4f}\n",
      "Epoch {epoch+1}/{n_epochs}, Mean Squared Error: {mse: .4f}\n",
      "Epoch {epoch+1}/{n_epochs}, Mean Squared Error: {mse: .4f}\n",
      "Epoch {epoch+1}/{n_epochs}, Mean Squared Error: {mse: .4f}\n",
      "Epoch {epoch+1}/{n_epochs}, Mean Squared Error: {mse: .4f}\n",
      "Epoch {epoch+1}/{n_epochs}, Mean Squared Error: {mse: .4f}\n",
      "Epoch {epoch+1}/{n_epochs}, Mean Squared Error: {mse: .4f}\n",
      "Epoch {epoch+1}/{n_epochs}, Mean Squared Error: {mse: .4f}\n",
      "Epoch {epoch+1}/{n_epochs}, Mean Squared Error: {mse: .4f}\n",
      "Epoch {epoch+1}/{n_epochs}, Mean Squared Error: {mse: .4f}\n",
      "Epoch {epoch+1}/{n_epochs}, Mean Squared Error: {mse: .4f}\n",
      "Epoch {epoch+1}/{n_epochs}, Mean Squared Error: {mse: .4f}\n",
      "Epoch {epoch+1}/{n_epochs}, Mean Squared Error: {mse: .4f}\n",
      "Epoch {epoch+1}/{n_epochs}, Mean Squared Error: {mse: .4f}\n",
      "Epoch {epoch+1}/{n_epochs}, Mean Squared Error: {mse: .4f}\n",
      "Epoch {epoch+1}/{n_epochs}, Mean Squared Error: {mse: .4f}\n",
      "Epoch {epoch+1}/{n_epochs}, Mean Squared Error: {mse: .4f}\n",
      "Epoch {epoch+1}/{n_epochs}, Mean Squared Error: {mse: .4f}\n",
      "Epoch {epoch+1}/{n_epochs}, Mean Squared Error: {mse: .4f}\n",
      "Epoch {epoch+1}/{n_epochs}, Mean Squared Error: {mse: .4f}\n",
      "Epoch {epoch+1}/{n_epochs}, Mean Squared Error: {mse: .4f}\n",
      "Epoch {epoch+1}/{n_epochs}, Mean Squared Error: {mse: .4f}\n",
      "Epoch {epoch+1}/{n_epochs}, Mean Squared Error: {mse: .4f}\n",
      "Epoch {epoch+1}/{n_epochs}, Mean Squared Error: {mse: .4f}\n",
      "Epoch {epoch+1}/{n_epochs}, Mean Squared Error: {mse: .4f}\n",
      "Epoch {epoch+1}/{n_epochs}, Mean Squared Error: {mse: .4f}\n",
      "Epoch {epoch+1}/{n_epochs}, Mean Squared Error: {mse: .4f}\n",
      "Epoch {epoch+1}/{n_epochs}, Mean Squared Error: {mse: .4f}\n",
      "Epoch {epoch+1}/{n_epochs}, Mean Squared Error: {mse: .4f}\n",
      "Epoch {epoch+1}/{n_epochs}, Mean Squared Error: {mse: .4f}\n",
      "Epoch {epoch+1}/{n_epochs}, Mean Squared Error: {mse: .4f}\n",
      "Epoch {epoch+1}/{n_epochs}, Mean Squared Error: {mse: .4f}\n",
      "Epoch {epoch+1}/{n_epochs}, Mean Squared Error: {mse: .4f}\n",
      "Epoch {epoch+1}/{n_epochs}, Mean Squared Error: {mse: .4f}\n",
      "Epoch {epoch+1}/{n_epochs}, Mean Squared Error: {mse: .4f}\n",
      "Epoch {epoch+1}/{n_epochs}, Mean Squared Error: {mse: .4f}\n",
      "Epoch {epoch+1}/{n_epochs}, Mean Squared Error: {mse: .4f}\n",
      "Epoch {epoch+1}/{n_epochs}, Mean Squared Error: {mse: .4f}\n",
      "Epoch {epoch+1}/{n_epochs}, Mean Squared Error: {mse: .4f}\n",
      "Epoch {epoch+1}/{n_epochs}, Mean Squared Error: {mse: .4f}\n",
      "Epoch {epoch+1}/{n_epochs}, Mean Squared Error: {mse: .4f}\n",
      "Epoch {epoch+1}/{n_epochs}, Mean Squared Error: {mse: .4f}\n",
      "Epoch {epoch+1}/{n_epochs}, Mean Squared Error: {mse: .4f}\n",
      "Epoch {epoch+1}/{n_epochs}, Mean Squared Error: {mse: .4f}\n",
      "Epoch {epoch+1}/{n_epochs}, Mean Squared Error: {mse: .4f}\n",
      "Epoch {epoch+1}/{n_epochs}, Mean Squared Error: {mse: .4f}\n",
      "Epoch {epoch+1}/{n_epochs}, Mean Squared Error: {mse: .4f}\n",
      "Epoch {epoch+1}/{n_epochs}, Mean Squared Error: {mse: .4f}\n",
      "Epoch {epoch+1}/{n_epochs}, Mean Squared Error: {mse: .4f}\n",
      "Epoch {epoch+1}/{n_epochs}, Mean Squared Error: {mse: .4f}\n",
      "Epoch {epoch+1}/{n_epochs}, Mean Squared Error: {mse: .4f}\n",
      "Epoch {epoch+1}/{n_epochs}, Mean Squared Error: {mse: .4f}\n",
      "Epoch {epoch+1}/{n_epochs}, Mean Squared Error: {mse: .4f}\n",
      "Epoch {epoch+1}/{n_epochs}, Mean Squared Error: {mse: .4f}\n",
      "Epoch {epoch+1}/{n_epochs}, Mean Squared Error: {mse: .4f}\n",
      "Epoch {epoch+1}/{n_epochs}, Mean Squared Error: {mse: .4f}\n",
      "Epoch {epoch+1}/{n_epochs}, Mean Squared Error: {mse: .4f}\n",
      "Epoch {epoch+1}/{n_epochs}, Mean Squared Error: {mse: .4f}\n",
      "Epoch {epoch+1}/{n_epochs}, Mean Squared Error: {mse: .4f}\n",
      "Epoch {epoch+1}/{n_epochs}, Mean Squared Error: {mse: .4f}\n",
      "Epoch {epoch+1}/{n_epochs}, Mean Squared Error: {mse: .4f}\n",
      "Epoch {epoch+1}/{n_epochs}, Mean Squared Error: {mse: .4f}\n",
      "Epoch {epoch+1}/{n_epochs}, Mean Squared Error: {mse: .4f}\n",
      "Epoch {epoch+1}/{n_epochs}, Mean Squared Error: {mse: .4f}\n",
      "Epoch {epoch+1}/{n_epochs}, Mean Squared Error: {mse: .4f}\n",
      "Epoch {epoch+1}/{n_epochs}, Mean Squared Error: {mse: .4f}\n",
      "Epoch {epoch+1}/{n_epochs}, Mean Squared Error: {mse: .4f}\n",
      "Epoch {epoch+1}/{n_epochs}, Mean Squared Error: {mse: .4f}\n",
      "Epoch {epoch+1}/{n_epochs}, Mean Squared Error: {mse: .4f}\n",
      "Epoch {epoch+1}/{n_epochs}, Mean Squared Error: {mse: .4f}\n",
      "Epoch {epoch+1}/{n_epochs}, Mean Squared Error: {mse: .4f}\n",
      "Epoch {epoch+1}/{n_epochs}, Mean Squared Error: {mse: .4f}\n",
      "Epoch {epoch+1}/{n_epochs}, Mean Squared Error: {mse: .4f}\n",
      "Epoch {epoch+1}/{n_epochs}, Mean Squared Error: {mse: .4f}\n",
      "Epoch {epoch+1}/{n_epochs}, Mean Squared Error: {mse: .4f}\n",
      "Epoch {epoch+1}/{n_epochs}, Mean Squared Error: {mse: .4f}\n",
      "Final theta: [ -1.33494698 -12.21325832  25.42893787  15.83125163  -5.8911058\n",
      "  -3.13050998  -8.50816881   5.8261413   23.5982436    3.15789301]\n"
     ]
    }
   ],
   "source": [
    "theta=stochastic_gradient_descent(X_scaled, y)\n",
    "print(\"Final theta:\", theta)"
   ]
  }
 ],
 "metadata": {
  "colab": {
   "provenance": []
  },
  "kernelspec": {
   "display_name": "Python 3 (ipykernel)",
   "language": "python",
   "name": "python3"
  },
  "language_info": {
   "codemirror_mode": {
    "name": "ipython",
    "version": 3
   },
   "file_extension": ".py",
   "mimetype": "text/x-python",
   "name": "python",
   "nbconvert_exporter": "python",
   "pygments_lexer": "ipython3",
   "version": "3.9.7"
  }
 },
 "nbformat": 4,
 "nbformat_minor": 1
}
