{
 "cells": [
  {
   "cell_type": "code",
   "execution_count": 9,
   "id": "7ac57c06",
   "metadata": {},
   "outputs": [],
   "source": [
    "import numpy as np\n",
    "from tensorflow.keras.datasets import mnist\n",
    "import tensorflow as tf\n",
    "from tensorflow.keras.models import Sequential\n",
    "from tensorflow.keras.layers import Dense,Flatten\n",
    "import matplotlib.pyplot as plt\n"
   ]
  },
  {
   "cell_type": "code",
   "execution_count": 2,
   "id": "3b626f8c",
   "metadata": {},
   "outputs": [],
   "source": [
    "(x_train,y_train), (x_test,y_test) = mnist.load_data()"
   ]
  },
  {
   "cell_type": "code",
   "execution_count": 3,
   "id": "b3db4d5b",
   "metadata": {},
   "outputs": [],
   "source": [
    "x_train=x_train/255.0\n",
    "x_test=x_test/255.0"
   ]
  },
  {
   "cell_type": "code",
   "execution_count": 11,
   "id": "fb8a9603",
   "metadata": {},
   "outputs": [],
   "source": [
    "model= Sequential([Flatten(input_shape=(28,28,1)),\n",
    "                  Dense(784,activation='relu'),\n",
    "                  Dense(10,activation='softmax')])"
   ]
  },
  {
   "cell_type": "code",
   "execution_count": 16,
   "id": "b7cb2ece",
   "metadata": {},
   "outputs": [],
   "source": [
    "model.compile(optimizer='adam',loss='sparse_categorical_crossentropy',metrics=['accuracy'])"
   ]
  },
  {
   "cell_type": "code",
   "execution_count": 17,
   "id": "8b444c9f",
   "metadata": {},
   "outputs": [
    {
     "name": "stdout",
     "output_type": "stream",
     "text": [
      "Epoch 1/100\n",
      "1500/1500 [==============================] - 8s 5ms/step - loss: 0.2107 - accuracy: 0.9372 - val_loss: 0.1140 - val_accuracy: 0.9643\n",
      "Epoch 2/100\n",
      "1500/1500 [==============================] - 8s 5ms/step - loss: 0.0841 - accuracy: 0.9740 - val_loss: 0.0994 - val_accuracy: 0.9692\n",
      "Epoch 3/100\n",
      "1500/1500 [==============================] - 8s 5ms/step - loss: 0.0541 - accuracy: 0.9824 - val_loss: 0.0828 - val_accuracy: 0.9747\n",
      "Epoch 4/100\n",
      "1500/1500 [==============================] - 8s 5ms/step - loss: 0.0363 - accuracy: 0.9887 - val_loss: 0.0903 - val_accuracy: 0.9752\n",
      "Epoch 5/100\n",
      "1500/1500 [==============================] - 8s 5ms/step - loss: 0.0257 - accuracy: 0.9914 - val_loss: 0.0783 - val_accuracy: 0.9766\n",
      "Epoch 6/100\n",
      "1500/1500 [==============================] - 8s 5ms/step - loss: 0.0230 - accuracy: 0.9924 - val_loss: 0.0871 - val_accuracy: 0.9774\n",
      "Epoch 7/100\n",
      "1500/1500 [==============================] - 8s 5ms/step - loss: 0.0168 - accuracy: 0.9946 - val_loss: 0.0878 - val_accuracy: 0.9790\n",
      "Epoch 8/100\n",
      "1500/1500 [==============================] - 8s 5ms/step - loss: 0.0144 - accuracy: 0.9950 - val_loss: 0.0966 - val_accuracy: 0.9775\n",
      "Epoch 9/100\n",
      "1500/1500 [==============================] - 8s 5ms/step - loss: 0.0126 - accuracy: 0.9958 - val_loss: 0.1107 - val_accuracy: 0.9762\n",
      "Epoch 10/100\n",
      "1500/1500 [==============================] - 8s 5ms/step - loss: 0.0116 - accuracy: 0.9960 - val_loss: 0.1241 - val_accuracy: 0.9725\n",
      "Epoch 11/100\n",
      "1500/1500 [==============================] - 8s 5ms/step - loss: 0.0101 - accuracy: 0.9966 - val_loss: 0.0953 - val_accuracy: 0.9801\n",
      "Epoch 12/100\n",
      "1500/1500 [==============================] - 8s 5ms/step - loss: 0.0115 - accuracy: 0.9962 - val_loss: 0.1127 - val_accuracy: 0.9780\n",
      "Epoch 13/100\n",
      "1500/1500 [==============================] - 8s 5ms/step - loss: 0.0061 - accuracy: 0.9982 - val_loss: 0.1169 - val_accuracy: 0.9791\n",
      "Epoch 14/100\n",
      "1500/1500 [==============================] - 8s 5ms/step - loss: 0.0102 - accuracy: 0.9966 - val_loss: 0.1174 - val_accuracy: 0.9778\n",
      "Epoch 15/100\n",
      "1500/1500 [==============================] - 8s 5ms/step - loss: 0.0075 - accuracy: 0.9978 - val_loss: 0.1515 - val_accuracy: 0.9731\n",
      "Epoch 16/100\n",
      "1500/1500 [==============================] - 8s 5ms/step - loss: 0.0081 - accuracy: 0.9974 - val_loss: 0.1085 - val_accuracy: 0.9791\n",
      "Epoch 17/100\n",
      "1500/1500 [==============================] - 8s 5ms/step - loss: 0.0059 - accuracy: 0.9978 - val_loss: 0.1314 - val_accuracy: 0.9784\n",
      "Epoch 18/100\n",
      "1500/1500 [==============================] - 8s 5ms/step - loss: 0.0072 - accuracy: 0.9976 - val_loss: 0.1305 - val_accuracy: 0.9785\n",
      "Epoch 19/100\n",
      "1500/1500 [==============================] - 8s 5ms/step - loss: 0.0069 - accuracy: 0.9976 - val_loss: 0.1410 - val_accuracy: 0.9793\n",
      "Epoch 20/100\n",
      "1500/1500 [==============================] - 8s 5ms/step - loss: 0.0066 - accuracy: 0.9979 - val_loss: 0.1456 - val_accuracy: 0.9785\n",
      "Epoch 21/100\n",
      "1500/1500 [==============================] - 8s 5ms/step - loss: 0.0052 - accuracy: 0.9986 - val_loss: 0.1302 - val_accuracy: 0.9801\n",
      "Epoch 22/100\n",
      "1500/1500 [==============================] - 7s 5ms/step - loss: 0.0066 - accuracy: 0.9978 - val_loss: 0.1306 - val_accuracy: 0.9801\n",
      "Epoch 23/100\n",
      "1500/1500 [==============================] - 7s 5ms/step - loss: 0.0065 - accuracy: 0.9982 - val_loss: 0.1526 - val_accuracy: 0.9784\n",
      "Epoch 24/100\n",
      "1500/1500 [==============================] - 8s 5ms/step - loss: 0.0048 - accuracy: 0.9986 - val_loss: 0.1613 - val_accuracy: 0.9777\n",
      "Epoch 25/100\n",
      "1500/1500 [==============================] - 7s 5ms/step - loss: 0.0062 - accuracy: 0.9981 - val_loss: 0.1504 - val_accuracy: 0.9797\n",
      "Epoch 26/100\n",
      "1500/1500 [==============================] - 8s 5ms/step - loss: 0.0057 - accuracy: 0.9981 - val_loss: 0.1622 - val_accuracy: 0.9799\n",
      "Epoch 27/100\n",
      "1500/1500 [==============================] - 8s 5ms/step - loss: 0.0050 - accuracy: 0.9984 - val_loss: 0.1714 - val_accuracy: 0.9781\n",
      "Epoch 28/100\n",
      "1500/1500 [==============================] - 7s 5ms/step - loss: 0.0080 - accuracy: 0.9978 - val_loss: 0.1461 - val_accuracy: 0.9810\n",
      "Epoch 29/100\n",
      "1500/1500 [==============================] - 7s 5ms/step - loss: 0.0030 - accuracy: 0.9992 - val_loss: 0.1647 - val_accuracy: 0.9803\n",
      "Epoch 30/100\n",
      "1500/1500 [==============================] - 8s 5ms/step - loss: 0.0048 - accuracy: 0.9987 - val_loss: 0.1846 - val_accuracy: 0.9793\n",
      "Epoch 31/100\n",
      "1500/1500 [==============================] - 7s 5ms/step - loss: 0.0078 - accuracy: 0.9980 - val_loss: 0.1948 - val_accuracy: 0.9785\n",
      "Epoch 32/100\n",
      "1500/1500 [==============================] - 6s 4ms/step - loss: 0.0068 - accuracy: 0.9983 - val_loss: 0.1963 - val_accuracy: 0.9766\n",
      "Epoch 33/100\n",
      "1500/1500 [==============================] - 7s 5ms/step - loss: 0.0042 - accuracy: 0.9988 - val_loss: 0.1852 - val_accuracy: 0.9795\n",
      "Epoch 34/100\n",
      "1500/1500 [==============================] - 7s 5ms/step - loss: 0.0032 - accuracy: 0.9989 - val_loss: 0.1754 - val_accuracy: 0.9813\n",
      "Epoch 35/100\n",
      "1500/1500 [==============================] - 7s 5ms/step - loss: 0.0068 - accuracy: 0.9985 - val_loss: 0.1745 - val_accuracy: 0.9792\n",
      "Epoch 36/100\n",
      "1500/1500 [==============================] - 8s 5ms/step - loss: 0.0050 - accuracy: 0.9985 - val_loss: 0.1903 - val_accuracy: 0.9790\n",
      "Epoch 37/100\n",
      "1500/1500 [==============================] - 8s 5ms/step - loss: 0.0056 - accuracy: 0.9982 - val_loss: 0.1692 - val_accuracy: 0.9820\n",
      "Epoch 38/100\n",
      "1500/1500 [==============================] - 7s 5ms/step - loss: 0.0040 - accuracy: 0.9990 - val_loss: 0.2092 - val_accuracy: 0.9798\n",
      "Epoch 39/100\n",
      "1500/1500 [==============================] - 7s 5ms/step - loss: 0.0057 - accuracy: 0.9986 - val_loss: 0.1685 - val_accuracy: 0.9827\n",
      "Epoch 40/100\n",
      "1500/1500 [==============================] - 7s 5ms/step - loss: 0.0026 - accuracy: 0.9992 - val_loss: 0.2138 - val_accuracy: 0.9782\n",
      "Epoch 41/100\n",
      "1500/1500 [==============================] - 7s 5ms/step - loss: 0.0048 - accuracy: 0.9987 - val_loss: 0.2016 - val_accuracy: 0.9783\n",
      "Epoch 42/100\n",
      "1500/1500 [==============================] - 7s 5ms/step - loss: 0.0065 - accuracy: 0.9984 - val_loss: 0.1875 - val_accuracy: 0.9799\n",
      "Epoch 43/100\n",
      "1500/1500 [==============================] - 7s 5ms/step - loss: 0.0034 - accuracy: 0.9991 - val_loss: 0.2071 - val_accuracy: 0.9804\n",
      "Epoch 44/100\n",
      "1500/1500 [==============================] - 8s 5ms/step - loss: 0.0050 - accuracy: 0.9988 - val_loss: 0.1805 - val_accuracy: 0.9820\n",
      "Epoch 45/100\n",
      "1500/1500 [==============================] - 8s 5ms/step - loss: 0.0063 - accuracy: 0.9985 - val_loss: 0.2083 - val_accuracy: 0.9800\n",
      "Epoch 46/100\n",
      "1500/1500 [==============================] - 11s 7ms/step - loss: 0.0033 - accuracy: 0.9990 - val_loss: 0.2114 - val_accuracy: 0.9800\n",
      "Epoch 47/100\n",
      "1500/1500 [==============================] - 8s 5ms/step - loss: 0.0032 - accuracy: 0.9989 - val_loss: 0.2039 - val_accuracy: 0.9801\n",
      "Epoch 48/100\n",
      "1500/1500 [==============================] - 6s 4ms/step - loss: 0.0038 - accuracy: 0.9990 - val_loss: 0.2007 - val_accuracy: 0.9820\n",
      "Epoch 49/100\n",
      "1500/1500 [==============================] - 8s 5ms/step - loss: 0.0039 - accuracy: 0.9990 - val_loss: 0.2192 - val_accuracy: 0.9818\n",
      "Epoch 50/100\n",
      "1500/1500 [==============================] - 8s 5ms/step - loss: 0.0064 - accuracy: 0.9984 - val_loss: 0.2443 - val_accuracy: 0.9793\n",
      "Epoch 51/100\n",
      "1500/1500 [==============================] - 7s 5ms/step - loss: 0.0048 - accuracy: 0.9987 - val_loss: 0.2248 - val_accuracy: 0.9791\n",
      "Epoch 52/100\n",
      "1500/1500 [==============================] - 7s 5ms/step - loss: 0.0048 - accuracy: 0.9989 - val_loss: 0.2377 - val_accuracy: 0.9804\n",
      "Epoch 53/100\n",
      "1500/1500 [==============================] - 7s 5ms/step - loss: 0.0016 - accuracy: 0.9996 - val_loss: 0.2299 - val_accuracy: 0.9814\n",
      "Epoch 54/100\n",
      "1500/1500 [==============================] - 6s 4ms/step - loss: 0.0047 - accuracy: 0.9989 - val_loss: 0.2386 - val_accuracy: 0.9808\n",
      "Epoch 55/100\n",
      "1500/1500 [==============================] - 7s 5ms/step - loss: 0.0025 - accuracy: 0.9993 - val_loss: 0.2421 - val_accuracy: 0.9808\n",
      "Epoch 56/100\n",
      "1500/1500 [==============================] - 7s 5ms/step - loss: 0.0035 - accuracy: 0.9990 - val_loss: 0.2860 - val_accuracy: 0.9790\n",
      "Epoch 57/100\n"
     ]
    },
    {
     "name": "stdout",
     "output_type": "stream",
     "text": [
      "1500/1500 [==============================] - 8s 5ms/step - loss: 0.0066 - accuracy: 0.9988 - val_loss: 0.2386 - val_accuracy: 0.9811\n",
      "Epoch 58/100\n",
      "1500/1500 [==============================] - 7s 5ms/step - loss: 0.0031 - accuracy: 0.9992 - val_loss: 0.2396 - val_accuracy: 0.9812\n",
      "Epoch 59/100\n",
      "1500/1500 [==============================] - 7s 5ms/step - loss: 0.0032 - accuracy: 0.9991 - val_loss: 0.2703 - val_accuracy: 0.9798\n",
      "Epoch 60/100\n",
      "1500/1500 [==============================] - 7s 5ms/step - loss: 0.0041 - accuracy: 0.9992 - val_loss: 0.2420 - val_accuracy: 0.9799\n",
      "Epoch 61/100\n",
      "1500/1500 [==============================] - 7s 5ms/step - loss: 0.0058 - accuracy: 0.9987 - val_loss: 0.2835 - val_accuracy: 0.9774\n",
      "Epoch 62/100\n",
      "1500/1500 [==============================] - 7s 5ms/step - loss: 0.0038 - accuracy: 0.9991 - val_loss: 0.2631 - val_accuracy: 0.9803\n",
      "Epoch 63/100\n",
      "1500/1500 [==============================] - 7s 5ms/step - loss: 0.0021 - accuracy: 0.9996 - val_loss: 0.2493 - val_accuracy: 0.9807\n",
      "Epoch 64/100\n",
      "1500/1500 [==============================] - 7s 5ms/step - loss: 0.0021 - accuracy: 0.9996 - val_loss: 0.2514 - val_accuracy: 0.9808\n",
      "Epoch 65/100\n",
      "1500/1500 [==============================] - 8s 5ms/step - loss: 0.0037 - accuracy: 0.9993 - val_loss: 0.2734 - val_accuracy: 0.9797\n",
      "Epoch 66/100\n",
      "1500/1500 [==============================] - 7s 5ms/step - loss: 0.0046 - accuracy: 0.9991 - val_loss: 0.2619 - val_accuracy: 0.9806\n",
      "Epoch 67/100\n",
      "1500/1500 [==============================] - 7s 5ms/step - loss: 0.0037 - accuracy: 0.9990 - val_loss: 0.2871 - val_accuracy: 0.9794\n",
      "Epoch 68/100\n",
      "1500/1500 [==============================] - 7s 5ms/step - loss: 0.0023 - accuracy: 0.9993 - val_loss: 0.3020 - val_accuracy: 0.9802\n",
      "Epoch 69/100\n",
      "1500/1500 [==============================] - 8s 5ms/step - loss: 0.0038 - accuracy: 0.9992 - val_loss: 0.3018 - val_accuracy: 0.9798\n",
      "Epoch 70/100\n",
      "1500/1500 [==============================] - 8s 5ms/step - loss: 0.0049 - accuracy: 0.9987 - val_loss: 0.2832 - val_accuracy: 0.9802\n",
      "Epoch 71/100\n",
      "1500/1500 [==============================] - 8s 5ms/step - loss: 0.0019 - accuracy: 0.9995 - val_loss: 0.3079 - val_accuracy: 0.9790\n",
      "Epoch 72/100\n",
      "1500/1500 [==============================] - 7s 5ms/step - loss: 0.0030 - accuracy: 0.9993 - val_loss: 0.3004 - val_accuracy: 0.9793\n",
      "Epoch 73/100\n",
      "1500/1500 [==============================] - 8s 5ms/step - loss: 0.0058 - accuracy: 0.9989 - val_loss: 0.3345 - val_accuracy: 0.9806\n",
      "Epoch 74/100\n",
      "1500/1500 [==============================] - 8s 5ms/step - loss: 0.0043 - accuracy: 0.9993 - val_loss: 0.2948 - val_accuracy: 0.9796\n",
      "Epoch 75/100\n",
      "1500/1500 [==============================] - 8s 5ms/step - loss: 0.0025 - accuracy: 0.9995 - val_loss: 0.3050 - val_accuracy: 0.9803\n",
      "Epoch 76/100\n",
      "1500/1500 [==============================] - 8s 5ms/step - loss: 0.0045 - accuracy: 0.9992 - val_loss: 0.3158 - val_accuracy: 0.9780\n",
      "Epoch 77/100\n",
      "1500/1500 [==============================] - 7s 5ms/step - loss: 0.0051 - accuracy: 0.9989 - val_loss: 0.3034 - val_accuracy: 0.9808\n",
      "Epoch 78/100\n",
      "1500/1500 [==============================] - 7s 5ms/step - loss: 0.0035 - accuracy: 0.9993 - val_loss: 0.3595 - val_accuracy: 0.9797\n",
      "Epoch 79/100\n",
      "1500/1500 [==============================] - 7s 4ms/step - loss: 0.0038 - accuracy: 0.9993 - val_loss: 0.3053 - val_accuracy: 0.9801\n",
      "Epoch 80/100\n",
      "1500/1500 [==============================] - 7s 5ms/step - loss: 0.0040 - accuracy: 0.9992 - val_loss: 0.3118 - val_accuracy: 0.9792\n",
      "Epoch 81/100\n",
      "1500/1500 [==============================] - 7s 5ms/step - loss: 0.0040 - accuracy: 0.9992 - val_loss: 0.3615 - val_accuracy: 0.9795\n",
      "Epoch 82/100\n",
      "1500/1500 [==============================] - 7s 4ms/step - loss: 0.0028 - accuracy: 0.9996 - val_loss: 0.3393 - val_accuracy: 0.9790\n",
      "Epoch 83/100\n",
      "1500/1500 [==============================] - 7s 5ms/step - loss: 0.0057 - accuracy: 0.9990 - val_loss: 0.3141 - val_accuracy: 0.9820\n",
      "Epoch 84/100\n",
      "1500/1500 [==============================] - 8s 5ms/step - loss: 0.0035 - accuracy: 0.9992 - val_loss: 0.3405 - val_accuracy: 0.9806\n",
      "Epoch 85/100\n",
      "1500/1500 [==============================] - 7s 5ms/step - loss: 0.0036 - accuracy: 0.9994 - val_loss: 0.3652 - val_accuracy: 0.9784\n",
      "Epoch 86/100\n",
      "1500/1500 [==============================] - 8s 5ms/step - loss: 0.0026 - accuracy: 0.9995 - val_loss: 0.3302 - val_accuracy: 0.9791\n",
      "Epoch 87/100\n",
      "1500/1500 [==============================] - 8s 5ms/step - loss: 0.0040 - accuracy: 0.9993 - val_loss: 0.3319 - val_accuracy: 0.9805\n",
      "Epoch 88/100\n",
      "1500/1500 [==============================] - 8s 5ms/step - loss: 0.0056 - accuracy: 0.9993 - val_loss: 0.3250 - val_accuracy: 0.9803\n",
      "Epoch 89/100\n",
      "1500/1500 [==============================] - 8s 5ms/step - loss: 0.0026 - accuracy: 0.9996 - val_loss: 0.2867 - val_accuracy: 0.9818\n",
      "Epoch 90/100\n",
      "1500/1500 [==============================] - 8s 5ms/step - loss: 0.0026 - accuracy: 0.9995 - val_loss: 0.3666 - val_accuracy: 0.9790\n",
      "Epoch 91/100\n",
      "1500/1500 [==============================] - 8s 5ms/step - loss: 0.0038 - accuracy: 0.9993 - val_loss: 0.3629 - val_accuracy: 0.9798\n",
      "Epoch 92/100\n",
      "1500/1500 [==============================] - 8s 5ms/step - loss: 0.0025 - accuracy: 0.9995 - val_loss: 0.3163 - val_accuracy: 0.9814\n",
      "Epoch 93/100\n",
      "1500/1500 [==============================] - 8s 5ms/step - loss: 0.0032 - accuracy: 0.9993 - val_loss: 0.3169 - val_accuracy: 0.9810\n",
      "Epoch 94/100\n",
      "1500/1500 [==============================] - 8s 5ms/step - loss: 0.0049 - accuracy: 0.9991 - val_loss: 0.3222 - val_accuracy: 0.9812\n",
      "Epoch 95/100\n",
      "1500/1500 [==============================] - 7s 5ms/step - loss: 0.0019 - accuracy: 0.9996 - val_loss: 0.3503 - val_accuracy: 0.9790\n",
      "Epoch 96/100\n",
      "1500/1500 [==============================] - 8s 5ms/step - loss: 0.0029 - accuracy: 0.9995 - val_loss: 0.3572 - val_accuracy: 0.9793\n",
      "Epoch 97/100\n",
      "1500/1500 [==============================] - 8s 5ms/step - loss: 0.0026 - accuracy: 0.9996 - val_loss: 0.3316 - val_accuracy: 0.9799\n",
      "Epoch 98/100\n",
      "1500/1500 [==============================] - 8s 5ms/step - loss: 0.0045 - accuracy: 0.9992 - val_loss: 0.3319 - val_accuracy: 0.9801\n",
      "Epoch 99/100\n",
      "1500/1500 [==============================] - 8s 5ms/step - loss: 0.0012 - accuracy: 0.9997 - val_loss: 0.3157 - val_accuracy: 0.9812\n",
      "Epoch 100/100\n",
      "1500/1500 [==============================] - 7s 5ms/step - loss: 0.0032 - accuracy: 0.9995 - val_loss: 0.3420 - val_accuracy: 0.9802\n"
     ]
    },
    {
     "data": {
      "text/plain": [
       "<keras.callbacks.History at 0x1d24163dfd0>"
      ]
     },
     "execution_count": 17,
     "metadata": {},
     "output_type": "execute_result"
    }
   ],
   "source": [
    "model.fit(x_train,y_train,epochs=100,batch_size=32,validation_split=0.2)"
   ]
  },
  {
   "cell_type": "code",
   "execution_count": 19,
   "id": "c3423fdc",
   "metadata": {},
   "outputs": [
    {
     "name": "stdout",
     "output_type": "stream",
     "text": [
      "313/313 - 1s - loss: 0.3406 - accuracy: 0.9807 - 807ms/epoch - 3ms/step\n",
      "/nTest Accuracy =   0.9807000160217285\n"
     ]
    }
   ],
   "source": [
    "loss, accuracy= model.evaluate(x_test,y_test,verbose=2)\n",
    "\n",
    "print(\"/nTest Accuracy =  \",accuracy)"
   ]
  },
  {
   "cell_type": "code",
   "execution_count": 20,
   "id": "33233146",
   "metadata": {},
   "outputs": [
    {
     "name": "stdout",
     "output_type": "stream",
     "text": [
      "313/313 [==============================] - 1s 2ms/step\n"
     ]
    }
   ],
   "source": [
    "predictions = model.predict(x_test)\n",
    "predicted_labels=np.argmax(predictions,axis=1)\n",
    "\n"
   ]
  },
  {
   "cell_type": "code",
   "execution_count": 25,
   "id": "b186d488",
   "metadata": {},
   "outputs": [],
   "source": [
    "def plot_img(i, predictions_array,true_labels,img):\n",
    "    predictions_array, true_labels,img=predictions_array[i],true_labels[i],img[i]\n",
    "    plt.grid(False)\n",
    "    plt.xticks([])\n",
    "    plt.yticks([])\n",
    "    plt.imshow(img,cmap=plt.cm.binary)\n",
    "    predicted_labels=np.argmax(predictions_array)\n",
    "    if predicted_labels==true_labels:\n",
    "        color='blue'\n",
    "    else:\n",
    "        color='red'\n",
    "    plt.xlabel(f\"Predicted: {predicted_labels}{np.max(predictions_array)*100:.2f}%)\",color=color)\n",
    "    \n",
    "               "
   ]
  },
  {
   "cell_type": "code",
   "execution_count": 26,
   "id": "f7d89f81",
   "metadata": {},
   "outputs": [
    {
     "data": {
      "image/png": "[encoded data removed]",
      "text/plain": [
       "<Figure size 720x720 with 25 Axes>"
      ]
     },
     "metadata": {},
     "output_type": "display_data"
    }
   ],
   "source": [
    "num_row=5\n",
    "num_cols=5\n",
    "num_images=num_row*num_cols\n",
    "plt.figure(figsize=(10,10))\n",
    "for i in range(num_images):\n",
    "    plt.subplot(num_row,num_cols,i+1)\n",
    "    plot_img(i,predictions,y_test,x_test)\n",
    "plt.show()"
   ]
  },
  {
   "cell_type": "code",
   "execution_count": null,
   "id": "c71e34b1",
   "metadata": {},
   "outputs": [],
   "source": []
  }
 ],
 "metadata": {
  "kernelspec": {
   "display_name": "Python 3 (ipykernel)",
   "language": "python",
   "name": "python3"
  },
  "language_info": {
   "codemirror_mode": {
    "name": "ipython",
    "version": 3
   },
   "file_extension": ".py",
   "mimetype": "text/x-python",
   "name": "python",
   "nbconvert_exporter": "python",
   "pygments_lexer": "ipython3",
   "version": "3.9.7"
  }
 },
 "nbformat": 4,
 "nbformat_minor": 5
}
